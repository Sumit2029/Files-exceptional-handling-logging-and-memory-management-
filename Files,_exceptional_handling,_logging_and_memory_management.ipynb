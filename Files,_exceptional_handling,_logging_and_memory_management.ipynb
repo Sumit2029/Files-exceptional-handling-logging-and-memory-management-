{
  "nbformat": 4,
  "nbformat_minor": 0,
  "metadata": {
    "colab": {
      "provenance": []
    },
    "kernelspec": {
      "name": "python3",
      "display_name": "Python 3"
    },
    "language_info": {
      "name": "python"
    }
  },
  "cells": [
    {
      "cell_type": "code",
      "execution_count": null,
      "metadata": {
        "id": "o1nDrrBWOnbb"
      },
      "outputs": [],
      "source": []
    },
    {
      "cell_type": "markdown",
      "source": [],
      "metadata": {
        "id": "2W3VZb-3SYcB"
      }
    },
    {
      "cell_type": "markdown",
      "source": [
        "1. What is the difference between interpreted and compiled languages\n",
        " -> Difference Between Interpreted and Compiled Languages\n",
        "Interpreted languages are executed line-by-line by an interpreter at runtime, while compiled languages are converted to machine code beforehand.\n",
        "2.  What is exception handling in Python\n",
        " ->Exception handling is a mechanism to handle runtime errors so that the program can continue execution.\n",
        "3.  What is the purpose of the finally block in exception handling\n",
        " ->Purpose of The finally block is used to execute code regardless of whether an exception occurred or not.\n",
        "4. What is logging in Python\n",
        "  ->Logging is a mechanism to record events that occur during the execution of a program.\n",
        "5.  What is the significance of the __del__ method in Python\n",
        " ->The _del_ method is a special method that is called when an object is about to be destroyed.\n",
        "6.  What is the difference between import and from ... import in Python\n",
        " ->Import is used to import a module, while from ... import is used to import specific functions or variables from a module.\n",
        "7. How can you handle multiple exceptions in Python\n",
        " ->Multiple exceptions can be handled using multiple except blocks or by using a tuple of exception types.\n",
        "8. What is the purpose of the with statement when handling files in Python\n",
        " ->The purpose of with statement is used to automatically close a file after it is no longer needed.\n",
        "9.  What is the difference between multithreading and multiprocessing\n",
        " -> Difference Between Multithreading and Multiprocessing are multithreading is a technique where multiple threads share the same memory space, while multiprocessing is a technique where multiple processes have their own memory space.\n",
        "10. What are the advantages of using logging in a program\n",
        " ->The advantage of logging they provides a record of events, helps in debugging, and provides insights into the program's behavior.\n",
        "11.  What is memory management in Python\n",
        " ->Memory management in Python is handled by the garbage collector, which automatically frees up memory occupied by objects that are no longer needed.\n",
        "12. What are the basic steps involved in exception handling in Python\n",
        " ->Basic Steps in Exception Handling  are try, except, and finally.\n",
        "13. Why is memory management important in Python\n",
        " ->Memory management is important to prevent memory leaks and ensure efficient use of memory.\n",
        "14.  What is the role of try and except in exception handling\n",
        " ->Try is used to enclose code that might raise an exception, while except is used to handle the exception.\n",
        "15.  How does Python's garbage collection system work\n",
        " ->Python's garbage collection system automatically frees up memory occupied by objects that are no longer needed.\n",
        "16.  What is the purpose of the else block in exception handling\n",
        " ->else block is used to execute code when no exception occurs.\n",
        "17. What are the common logging levels in Python\n",
        " ->The common logging levels are DEBUG, INFO, WARNING, ERROR, and CRITICAL.\n",
        "18.  What is the difference between os.fork() and multiprocessing in Python\n",
        "  ->Difference Between os.fork() and Multiprocessing are os.fork() creates a new process by duplicating the current process, while multiprocessing creates multiple processes that can run concurrently.\n",
        "19. What is the importance of closing a file in Python\n",
        " ->Closing a file is important to free up system resources and prevent data corruption.\n",
        "20. What is the difference between file.read() and file.readline() in Python\n",
        " ->Difference Between file.read() and file.readline() are file.read() reads the entire file into a string, while file.readline() reads a single line from the file.  \n",
        "21. What is the logging module in Python used for\n",
        " ->The logging module is used to record events that occur during the execution of a program.\n",
        "22.  What is the os module in Python used for in file handling\n",
        " ->The os module is used to interact with the operating system and perform tasks such as file I/O and process management.\n",
        "23. What are the challenges associated with memory management in Python\n",
        " ->The challenges include memory leaks, dangling pointers, and inefficient use of memory.\n",
        "24. How do you raise an exception manually in Python\n",
        " ->An exception can be raised manually using the raise keyword.\n",
        "25.  Why is it important to use multithreading in certain applications?\n",
        " ->Multithreading is important to improve responsiveness, increase throughput, and enhance user experience.  \n",
        "    \n",
        "     \n",
        "  \n",
        "\n",
        "\n",
        "  "
      ],
      "metadata": {
        "id": "HhtT43yFOxm2"
      }
    },
    {
      "cell_type": "code",
      "source": [
        "#1 How can you open a file for writing in Python and write a string to it\n",
        "with open(\"file.txt\", \"w\") as f:\n",
        "    f.write(\"Hello, World!\")\n"
      ],
      "metadata": {
        "id": "60E5EhqxZRyS"
      },
      "execution_count": null,
      "outputs": []
    },
    {
      "cell_type": "code",
      "source": [
        "#2 Write a Python program to read the contents of a file and print each line\n",
        "with open(\"file.txt\", \"r\") as f:\n",
        "    for i in f:\n",
        "        print(i.strip())"
      ],
      "metadata": {
        "colab": {
          "base_uri": "https://localhost:8080/"
        },
        "id": "Qu1rhxPsZb58",
        "outputId": "ca823dba-cb1b-4d88-bed9-fe828c1cf63f"
      },
      "execution_count": null,
      "outputs": [
        {
          "output_type": "stream",
          "name": "stdout",
          "text": [
            "Hello, World!\n"
          ]
        }
      ]
    },
    {
      "cell_type": "code",
      "source": [
        "#3 How would you handle a case where the file doesn't exist while trying to open it for reading\n",
        "try:\n",
        "  f= open(\"example.txt\",\"r\")\n",
        "  print(f.read())\n",
        "except FileNotFoundError:\n",
        "  print(\"File not found\")\n",
        "\n",
        "\n",
        "\n",
        "\n",
        "\n",
        "\n"
      ],
      "metadata": {
        "colab": {
          "base_uri": "https://localhost:8080/"
        },
        "id": "CodxJOQ4Zs85",
        "outputId": "c5133295-ddea-4745-8d3a-3b7d1ecbd995"
      },
      "execution_count": null,
      "outputs": [
        {
          "output_type": "stream",
          "name": "stdout",
          "text": [
            "File not found\n"
          ]
        }
      ]
    },
    {
      "cell_type": "code",
      "source": [
        "#4 Write a Python script that reads from one file and writes its content to another fileF\n",
        "with open(\"input.txt\", \"r\") as input_file:\n",
        "    with open(\"output.txt\", \"w\") as output_file:\n",
        "        for i in input_file:\n",
        "            output_file.write(i)\n",
        "\n",
        "\n",
        "\n",
        "\n",
        "\n"
      ],
      "metadata": {
        "id": "8mVcsk7Maqug"
      },
      "execution_count": null,
      "outputs": []
    },
    {
      "cell_type": "code",
      "source": [
        "#5 How would you catch and handle division by zero error in Python\u001f\n",
        "try:\n",
        "    x = 5 / 0\n",
        "except ZeroDivisionError:\n",
        "    print(\"Cannot divide by zero!\")"
      ],
      "metadata": {
        "colab": {
          "base_uri": "https://localhost:8080/"
        },
        "id": "o-5rLiEccqlP",
        "outputId": "7d637264-4f86-4f79-c6ee-74dd43ca12c1"
      },
      "execution_count": null,
      "outputs": [
        {
          "output_type": "stream",
          "name": "stdout",
          "text": [
            "Cannot divide by zero!\n"
          ]
        }
      ]
    },
    {
      "cell_type": "code",
      "source": [
        "#6 Write a Python program that logs an error message to a log file when a division by zero exception occursF\n",
        "import logging\n",
        "\n",
        "logging.basicConfig(filename='error.log', level=logging.ERROR)\n",
        "\n",
        "try:\n",
        "    x = 5 / 0\n",
        "except ZeroDivisionError:\n",
        "    logging.error(\"Cannot divide by zero!\")\n"
      ],
      "metadata": {
        "colab": {
          "base_uri": "https://localhost:8080/"
        },
        "id": "c8jA48qLeCnH",
        "outputId": "d1880e83-9494-4c0e-cf2a-c7c079571c18"
      },
      "execution_count": null,
      "outputs": [
        {
          "output_type": "stream",
          "name": "stderr",
          "text": [
            "ERROR:root:Cannot divide by zero!\n"
          ]
        }
      ]
    },
    {
      "cell_type": "code",
      "source": [
        "#7 How do you log information at different levels (INFO, ERROR, WARNING) in Python using the logging module\u001f\n",
        "import logging\n",
        "\n",
        "logging.basicConfig(filename='log.log', level=logging.INFO)\n",
        "\n",
        "\n",
        "logging.info(\"This is an info message.\")\n",
        "logging.warning(\"This is a warning message.\")\n",
        "logging.error(\"This is an error message.\")\n",
        "\n"
      ],
      "metadata": {
        "colab": {
          "base_uri": "https://localhost:8080/"
        },
        "id": "PPVN95TkeOuV",
        "outputId": "5bf80adf-77f8-48e0-ab02-562f841b7920"
      },
      "execution_count": null,
      "outputs": [
        {
          "output_type": "stream",
          "name": "stderr",
          "text": [
            "WARNING:root:This is a warning message.\n",
            "ERROR:root:This is an error message.\n"
          ]
        }
      ]
    },
    {
      "cell_type": "code",
      "source": [
        "#8 Write a program to handle a file opening error using exception handlingF\n",
        "\n",
        "try:\n",
        "   with open(\"example.txt\", \"r\") as f:\n",
        "    print(f.read())\n",
        "\n",
        "except FileNotFoundError :\n",
        "      print(\"The file does not exist.\")\n",
        "except PermissionError:\n",
        "          print(\"You do not have permission to read the file.\")\n",
        "\n",
        "\n",
        "\n",
        "\n",
        "\n",
        "\n",
        "\n"
      ],
      "metadata": {
        "colab": {
          "base_uri": "https://localhost:8080/"
        },
        "id": "eXKwgPIaekMt",
        "outputId": "1578109a-9bf9-42d8-d6f6-8e573e849df9"
      },
      "execution_count": null,
      "outputs": [
        {
          "output_type": "stream",
          "name": "stdout",
          "text": [
            "The file does not exist.\n"
          ]
        }
      ]
    },
    {
      "cell_type": "code",
      "source": [
        "#9 How can you read a file line by line and store its content in a list in Python\u001f\n",
        "with open(\"file.txt\", \"r\") as f:\n",
        "    lines = f.readlines()\n",
        "    print(lines)"
      ],
      "metadata": {
        "colab": {
          "base_uri": "https://localhost:8080/"
        },
        "id": "Q7Zio9Aef2Ob",
        "outputId": "8d4c94ad-0bcf-4c9d-de97-32326da9f884"
      },
      "execution_count": null,
      "outputs": [
        {
          "output_type": "stream",
          "name": "stdout",
          "text": [
            "['Hello, World!']\n"
          ]
        }
      ]
    },
    {
      "cell_type": "code",
      "source": [
        "#10 How can you append data to an existing file in Python\u001f\n",
        "with open(\"file.txt\", \"a\") as f:\n",
        "    f.write(\"This is a new line.\")"
      ],
      "metadata": {
        "id": "-shp0CR1gxXY"
      },
      "execution_count": null,
      "outputs": []
    },
    {
      "cell_type": "code",
      "source": [
        "#11 Write a Python program that uses a try-except block to handle an error when attempting to access a dictionary key that doesn't existF\n",
        "my_dict = {'a': 1, 'b': 2}\n",
        "\n",
        "try:\n",
        "    value = my_dict['c']\n",
        "except KeyError:\n",
        "    print(\"Key not found in dictionary.\")"
      ],
      "metadata": {
        "colab": {
          "base_uri": "https://localhost:8080/"
        },
        "id": "5E2h_iCqg61X",
        "outputId": "c0fff5fe-a639-43e4-f671-49e50c43e1bc"
      },
      "execution_count": null,
      "outputs": [
        {
          "output_type": "stream",
          "name": "stdout",
          "text": [
            "Key not found in dictionary.\n"
          ]
        }
      ]
    },
    {
      "cell_type": "code",
      "source": [
        "#12 Write a program that demonstrates using multiple except blocks to handle different types of exceptionsF\n",
        "try:\n",
        "    x = 5 / 0\n",
        "except ZeroDivisionError:\n",
        "    print(\"Cannot divide by zero!\")\n",
        "except TypeError:\n",
        "    print(\"Invalid data type!\")"
      ],
      "metadata": {
        "colab": {
          "base_uri": "https://localhost:8080/"
        },
        "id": "_gSb8ug7hNYO",
        "outputId": "028791ec-a39b-450c-9cca-a0e1228f737a"
      },
      "execution_count": null,
      "outputs": [
        {
          "output_type": "stream",
          "name": "stdout",
          "text": [
            "Cannot divide by zero!\n"
          ]
        }
      ]
    },
    {
      "cell_type": "code",
      "source": [
        "#13 How would you check if a file exists before attempting to read it in Python\u001f\n",
        "import os\n",
        "\n",
        "if os.path.exists(\"file.txt\"):\n",
        "    with open(\"file.txt\", \"r\") as f:\n",
        "        print(f.read())\n",
        "else:\n",
        "    print(\"The file does not exist.\")"
      ],
      "metadata": {
        "colab": {
          "base_uri": "https://localhost:8080/"
        },
        "id": "-WhG1nahhWOu",
        "outputId": "a782c051-edbf-4832-87b0-3097e14aa1d8"
      },
      "execution_count": null,
      "outputs": [
        {
          "output_type": "stream",
          "name": "stdout",
          "text": [
            "Hello, World!This is a new line.\n"
          ]
        }
      ]
    },
    {
      "cell_type": "code",
      "source": [
        "#14 Write a program that uses the logging module to log both informational and error messagesF\n",
        "import logging\n",
        "\n",
        "logging.basicConfig(filename='log.log', level=logging.INFO)\n",
        "\n",
        "logging.info(\"This is an info message.\")\n",
        "logging.error(\"This is an error message.\")"
      ],
      "metadata": {
        "colab": {
          "base_uri": "https://localhost:8080/"
        },
        "id": "_ky9TLoQhmSd",
        "outputId": "f17a297e-cb2c-4e75-8f7a-447ca6949d37"
      },
      "execution_count": null,
      "outputs": [
        {
          "output_type": "stream",
          "name": "stderr",
          "text": [
            "ERROR:root:This is an error message.\n"
          ]
        }
      ]
    },
    {
      "cell_type": "code",
      "source": [
        "#15 Write a Python program that prints the content of a file and handles the case when the file is emptyF\n",
        "\n",
        "with open(\"file.txt\", \"r\") as f:\n",
        "    lines = f.readlines()\n",
        "    if lines:\n",
        "        for line in lines:\n",
        "            print(line.strip())\n",
        "    else:\n",
        "        print(\"The file is empty.\")\n",
        "\n",
        "\n"
      ],
      "metadata": {
        "colab": {
          "base_uri": "https://localhost:8080/"
        },
        "id": "x02zG2wZh9dc",
        "outputId": "c610592a-bbd0-499a-c0ad-21726cc3b595"
      },
      "execution_count": null,
      "outputs": [
        {
          "output_type": "stream",
          "name": "stdout",
          "text": [
            "Hello, World!This is a new line.\n"
          ]
        }
      ]
    },
    {
      "cell_type": "code",
      "source": [
        "#16 Demonstrate how to use memory profiling to check the memory usage of a small programF\n",
        "import tracemalloc\n",
        "\n",
        "def memory_intensive_function():\n",
        "    large_list = [i for i in range(1000000)]\n",
        "    return large_list\n",
        "\n",
        "tracemalloc.start()\n",
        "\n",
        "memory_intensive_function()\n",
        "\n",
        "snapshot = tracemalloc.take_snapshot()\n",
        "top_stats = snapshot.statistics('lineno')\n",
        "\n",
        "print(\"[ Top 10 ]\")\n",
        "for stat in top_stats[:10]:\n",
        "    print(stat)\n"
      ],
      "metadata": {
        "colab": {
          "base_uri": "https://localhost:8080/"
        },
        "id": "W3iVMq2oiW90",
        "outputId": "744aab3d-a5c2-4a23-ebb6-ef6491f19dec"
      },
      "execution_count": null,
      "outputs": [
        {
          "output_type": "stream",
          "name": "stdout",
          "text": [
            "[ Top 10 ]\n",
            "/usr/local/lib/python3.11/dist-packages/google/colab/_variable_inspector.py:28: size=1520 B, count=1, average=1520 B\n",
            "/usr/lib/python3.11/codeop.py:125: size=349 B, count=6, average=58 B\n",
            "/usr/local/lib/python3.11/dist-packages/IPython/core/interactiveshell.py:3473: size=320 B, count=1, average=320 B\n",
            "/usr/local/lib/python3.11/dist-packages/IPython/core/interactiveshell.py:3358: size=295 B, count=2, average=148 B\n",
            "/usr/lib/python3.11/threading.py:320: size=264 B, count=6, average=44 B\n",
            "/usr/local/lib/python3.11/dist-packages/debugpy/_vendored/pydevd/_pydevd_bundle/pydevd_daemon_thread.py:103: size=168 B, count=3, average=56 B\n",
            "/usr/local/lib/python3.11/dist-packages/IPython/core/interactiveshell.py:3553: size=152 B, count=1, average=152 B\n",
            "/usr/lib/python3.11/threading.py:626: size=128 B, count=2, average=64 B\n",
            "/usr/local/lib/python3.11/dist-packages/IPython/core/interactiveshell.py:3466: size=112 B, count=3, average=37 B\n",
            "/usr/local/lib/python3.11/dist-packages/debugpy/_vendored/pydevd/pydevd.py:1749: size=112 B, count=2, average=56 B\n"
          ]
        }
      ]
    },
    {
      "cell_type": "code",
      "source": [
        "#17 Write a Python program to create and write a list of numbers to a file, one number per lineF\n",
        "with open(\"numbers.txt\", \"w\") as f:\n",
        "    numbers = [1, 2, 3, 4, 5]\n",
        "    for number in numbers:\n",
        "        f.write(str(number) + \"\\n\")"
      ],
      "metadata": {
        "id": "5QicNsGqkROv"
      },
      "execution_count": null,
      "outputs": []
    },
    {
      "cell_type": "code",
      "source": [
        "#18 How would you implement a basic logging setup that logs to a file with rotation after 1MB\u001f\n",
        "import logging\n",
        "from logging.handlers import RotatingFileHandler\n",
        "\n",
        "logger = logging.getLogger()\n",
        "logger.setLevel(logging.INFO)\n",
        "\n",
        "handler = RotatingFileHandler(\"log.log\", maxBytes=1000000, backupCount=5)\n",
        "logger.addHandler(handler)\n",
        "\n",
        "logger.info(\"This is an info message.\")\n",
        "logger.error(\"This is an error message.\")"
      ],
      "metadata": {
        "colab": {
          "base_uri": "https://localhost:8080/"
        },
        "id": "KjsCwgJkkkR1",
        "outputId": "1988ca0a-edfc-4f9b-9b28-4997de3bb43e"
      },
      "execution_count": null,
      "outputs": [
        {
          "output_type": "stream",
          "name": "stderr",
          "text": [
            "INFO:root:This is an info message.\n",
            "ERROR:root:This is an error message.\n"
          ]
        }
      ]
    },
    {
      "cell_type": "code",
      "source": [
        "#19 Write a program that handles both IndexError and KeyError using a try-except blockF\n",
        "my_dict = {'a': 1, 'b': 2}\n",
        "\n",
        "try:\n",
        "    value = my_dict['c']\n",
        "except KeyError:\n",
        "    print(\"Key not found in dictionary.\")\n",
        "except IndexError:\n",
        "    print(\"Index out of range.\")"
      ],
      "metadata": {
        "colab": {
          "base_uri": "https://localhost:8080/"
        },
        "id": "BNOmPpeVkzSt",
        "outputId": "9748e255-03e6-4a41-9284-0ef7602de447"
      },
      "execution_count": null,
      "outputs": [
        {
          "output_type": "stream",
          "name": "stdout",
          "text": [
            "Key not found in dictionary.\n"
          ]
        }
      ]
    },
    {
      "cell_type": "code",
      "source": [
        "#20 How would you open a file and read its contents using a context manager in Python\u001f\n",
        "with open(\"file.txt\", \"r\") as f:\n",
        "    contents = f.read()\n",
        "    print(contents)\n"
      ],
      "metadata": {
        "colab": {
          "base_uri": "https://localhost:8080/"
        },
        "id": "NUHaCFY6lAts",
        "outputId": "9809103f-3f87-405d-a292-55c12aa6a691"
      },
      "execution_count": null,
      "outputs": [
        {
          "output_type": "stream",
          "name": "stdout",
          "text": [
            "Hello, World!This is a new line.\n"
          ]
        }
      ]
    },
    {
      "cell_type": "code",
      "source": [
        "#21 Write a Python program that reads a file and prints the number of occurrences of a specific wordF\n",
        "word = \"Hello\"\n",
        "count = 0\n",
        "\n",
        "with open(\"file.txt\", \"r\") as f:\n",
        "    for line in f:\n",
        "        count += line.count(word)\n",
        "\n",
        "print(f\"The word '{word}' occurs {count} times in the file.\")\n"
      ],
      "metadata": {
        "colab": {
          "base_uri": "https://localhost:8080/"
        },
        "id": "o1cgUHqJlWdz",
        "outputId": "c4c4e47c-b981-4d71-ffa2-7ab3742bed75"
      },
      "execution_count": null,
      "outputs": [
        {
          "output_type": "stream",
          "name": "stdout",
          "text": [
            "The word 'Hello' occurs 1 times in the file.\n"
          ]
        }
      ]
    },
    {
      "cell_type": "code",
      "source": [
        "#22 How can you check if a file is empty before attempting to read its contents\u001f\n",
        "with open(\"file.txt\", \"r\") as f:\n",
        "    contents = f.read()\n",
        "    if contents:\n",
        "        print(contents)\n",
        "    else:\n",
        "        print(\"The file is empty.\")"
      ],
      "metadata": {
        "colab": {
          "base_uri": "https://localhost:8080/"
        },
        "id": "V0t2xsQzlsgc",
        "outputId": "d7d284f4-a1db-4540-ad30-5c5e9869a6ea"
      },
      "execution_count": null,
      "outputs": [
        {
          "output_type": "stream",
          "name": "stdout",
          "text": [
            "Hello, World!This is a new line.\n"
          ]
        }
      ]
    },
    {
      "cell_type": "code",
      "source": [
        "#23 Write a Python program that writes to a log file when an error occurs during file handling.\n",
        "import logging\n",
        "\n",
        "logging.basicConfig(filename='error.log', level=logging.ERROR)\n",
        "\n",
        "try:\n",
        "    with open(\"example.txt\", \"r\") as f:\n",
        "        contents = f.read()\n",
        "except Exception as e:\n",
        "    logging.exception(e)"
      ],
      "metadata": {
        "colab": {
          "base_uri": "https://localhost:8080/"
        },
        "id": "7V_o7RrymSCp",
        "outputId": "3e901a60-dec7-4b36-df25-9725e21b1c39"
      },
      "execution_count": null,
      "outputs": [
        {
          "output_type": "stream",
          "name": "stderr",
          "text": [
            "ERROR:root:[Errno 2] No such file or directory: 'example.txt'\n",
            "Traceback (most recent call last):\n",
            "  File \"<ipython-input-57-3555dc1dfa2b>\", line 7, in <cell line: 0>\n",
            "    with open(\"example.txt\", \"r\") as f:\n",
            "         ^^^^^^^^^^^^^^^^^^^^^^^^\n",
            "FileNotFoundError: [Errno 2] No such file or directory: 'example.txt'\n"
          ]
        }
      ]
    },
    {
      "cell_type": "code",
      "source": [],
      "metadata": {
        "id": "l9VQfm33mxko"
      },
      "execution_count": null,
      "outputs": []
    }
  ]
}